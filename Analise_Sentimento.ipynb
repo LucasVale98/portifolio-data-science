{
 "cells": [
  {
   "cell_type": "markdown",
   "id": "dde26197",
   "metadata": {},
   "source": [
    "# **Análise de Sentimento**"
   ]
  },
  {
   "cell_type": "code",
   "execution_count": 61,
   "id": "be9c69cf",
   "metadata": {},
   "outputs": [
    {
     "name": "stderr",
     "output_type": "stream",
     "text": [
      "[nltk_data] Downloading package punkt to\n",
      "[nltk_data]     C:\\Users\\lucas\\AppData\\Roaming\\nltk_data...\n",
      "[nltk_data]   Package punkt is already up-to-date!\n",
      "[nltk_data] Downloading package punkt_tab to\n",
      "[nltk_data]     C:\\Users\\lucas\\AppData\\Roaming\\nltk_data...\n",
      "[nltk_data]   Package punkt_tab is already up-to-date!\n",
      "[nltk_data] Downloading package stopwords to\n",
      "[nltk_data]     C:\\Users\\lucas\\AppData\\Roaming\\nltk_data...\n",
      "[nltk_data]   Package stopwords is already up-to-date!\n"
     ]
    }
   ],
   "source": [
    "import pandas as pd\n",
    "import numpy as np\n",
    "import matplotlib.pyplot as plt\n",
    "import seaborn as sns\n",
    "from sklearn.feature_extraction.text import TfidfVectorizer\n",
    "from nltk.corpus import stopwords\n",
    "from nltk.tokenize import word_tokenize\n",
    "import nltk\n",
    "nltk.download('punkt')\n",
    "nltk.download('punkt_tab') \n",
    "nltk.download('stopwords') \n",
    "import re"
   ]
  },
  {
   "cell_type": "code",
   "execution_count": 55,
   "id": "24253aa2",
   "metadata": {},
   "outputs": [],
   "source": [
    "from sklearn.model_selection import train_test_split\n",
    "from sklearn.naive_bayes import MultinomialNB\n",
    "from sklearn.metrics import accuracy_score, classification_report, confusion_matrix"
   ]
  },
  {
   "cell_type": "markdown",
   "id": "6d4c0f96",
   "metadata": {},
   "source": [
    "## **Dados**"
   ]
  },
  {
   "cell_type": "code",
   "execution_count": 3,
   "id": "9a1aeb8c",
   "metadata": {},
   "outputs": [
    {
     "data": {
      "text/html": [
       "<div>\n",
       "<style scoped>\n",
       "    .dataframe tbody tr th:only-of-type {\n",
       "        vertical-align: middle;\n",
       "    }\n",
       "\n",
       "    .dataframe tbody tr th {\n",
       "        vertical-align: top;\n",
       "    }\n",
       "\n",
       "    .dataframe thead th {\n",
       "        text-align: right;\n",
       "    }\n",
       "</style>\n",
       "<table border=\"1\" class=\"dataframe\">\n",
       "  <thead>\n",
       "    <tr style=\"text-align: right;\">\n",
       "      <th></th>\n",
       "      <th>frase</th>\n",
       "      <th>emocao</th>\n",
       "    </tr>\n",
       "  </thead>\n",
       "  <tbody>\n",
       "    <tr>\n",
       "      <th>0</th>\n",
       "      <td>Hoje o dia está perfeito.</td>\n",
       "      <td>positiva</td>\n",
       "    </tr>\n",
       "    <tr>\n",
       "      <th>1</th>\n",
       "      <td>As folhas estão caindo.</td>\n",
       "      <td>neutra</td>\n",
       "    </tr>\n",
       "    <tr>\n",
       "      <th>2</th>\n",
       "      <td>Estou muito agradecido por tudo.</td>\n",
       "      <td>positiva</td>\n",
       "    </tr>\n",
       "    <tr>\n",
       "      <th>3</th>\n",
       "      <td>Ele saiu para caminhar.</td>\n",
       "      <td>neutra</td>\n",
       "    </tr>\n",
       "    <tr>\n",
       "      <th>4</th>\n",
       "      <td>Me diverti muito na festa!</td>\n",
       "      <td>positiva</td>\n",
       "    </tr>\n",
       "    <tr>\n",
       "      <th>...</th>\n",
       "      <td>...</td>\n",
       "      <td>...</td>\n",
       "    </tr>\n",
       "    <tr>\n",
       "      <th>995</th>\n",
       "      <td>Ele saiu para caminhar.</td>\n",
       "      <td>neutra</td>\n",
       "    </tr>\n",
       "    <tr>\n",
       "      <th>996</th>\n",
       "      <td>Estamos no mês de maio.</td>\n",
       "      <td>neutra</td>\n",
       "    </tr>\n",
       "    <tr>\n",
       "      <th>997</th>\n",
       "      <td>Hoje é terça-feira.</td>\n",
       "      <td>neutra</td>\n",
       "    </tr>\n",
       "    <tr>\n",
       "      <th>998</th>\n",
       "      <td>Ela comprou um novo livro.</td>\n",
       "      <td>neutra</td>\n",
       "    </tr>\n",
       "    <tr>\n",
       "      <th>999</th>\n",
       "      <td>Tenho uma consulta às 15h.</td>\n",
       "      <td>neutra</td>\n",
       "    </tr>\n",
       "  </tbody>\n",
       "</table>\n",
       "<p>1000 rows × 2 columns</p>\n",
       "</div>"
      ],
      "text/plain": [
       "                                frase    emocao\n",
       "0           Hoje o dia está perfeito.  positiva\n",
       "1             As folhas estão caindo.    neutra\n",
       "2    Estou muito agradecido por tudo.  positiva\n",
       "3             Ele saiu para caminhar.    neutra\n",
       "4          Me diverti muito na festa!  positiva\n",
       "..                                ...       ...\n",
       "995           Ele saiu para caminhar.    neutra\n",
       "996           Estamos no mês de maio.    neutra\n",
       "997               Hoje é terça-feira.    neutra\n",
       "998        Ela comprou um novo livro.    neutra\n",
       "999        Tenho uma consulta às 15h.    neutra\n",
       "\n",
       "[1000 rows x 2 columns]"
      ]
     },
     "execution_count": 3,
     "metadata": {},
     "output_type": "execute_result"
    }
   ],
   "source": [
    "df = pd.read_csv('C:/Estudos/Kaggle/10 - Analise de Sentimento/Dados/frases_emocoes_geradas.csv')\n",
    "df"
   ]
  },
  {
   "cell_type": "markdown",
   "id": "89bc1b8e",
   "metadata": {},
   "source": [
    "# **Pré Processamento**"
   ]
  },
  {
   "cell_type": "code",
   "execution_count": 30,
   "id": "96cda269",
   "metadata": {},
   "outputs": [],
   "source": [
    "stop_words = list(stopwords.words('portuguese')) "
   ]
  },
  {
   "cell_type": "code",
   "execution_count": 31,
   "id": "4de02c52",
   "metadata": {},
   "outputs": [],
   "source": [
    "def preprocess_text(text):\n",
    "    text = text.lower()\n",
    "    text = re.sub(r'\\d+', '', text)  # Remove numbers\n",
    "    text = re.sub(r'[^\\w\\s]', '', text)  # Remove punctuation\n",
    "    text = re.sub(r'\\s+', ' ', text)  # Remove extra whitespace\n",
    "    tokens = word_tokenize(text) #Tokenize the text\n",
    "    tokens = [word for word in tokens if word.isalpha()]  # Remove numeros e simbolos\n",
    "    tokens = [word for word in tokens if word not in stop_words]  # Remove stopwords\n",
    "    return ' '.join(tokens)"
   ]
  },
  {
   "cell_type": "code",
   "execution_count": 32,
   "id": "d8357973",
   "metadata": {},
   "outputs": [],
   "source": [
    "df['frase_processada'] = df['frase'].apply(preprocess_text)"
   ]
  },
  {
   "cell_type": "code",
   "execution_count": 33,
   "id": "394353bc",
   "metadata": {},
   "outputs": [
    {
     "name": "stdout",
     "output_type": "stream",
     "text": [
      "\n",
      "Frases após pré-processamento:\n",
      "                              frase   frase_processada\n",
      "0         Hoje o dia está perfeito.  hoje dia perfeito\n",
      "1           As folhas estão caindo.      folhas caindo\n",
      "2  Estou muito agradecido por tudo.    agradecido tudo\n",
      "3           Ele saiu para caminhar.      saiu caminhar\n",
      "4        Me diverti muito na festa!      diverti festa\n"
     ]
    }
   ],
   "source": [
    "print(\"\\nFrases após pré-processamento:\")\n",
    "print(df[['frase', 'frase_processada']].head())"
   ]
  },
  {
   "cell_type": "markdown",
   "id": "36b707fc",
   "metadata": {},
   "source": [
    "## **Vetorização (TF-IDF)** "
   ]
  },
  {
   "cell_type": "code",
   "execution_count": 34,
   "id": "c63aec57",
   "metadata": {},
   "outputs": [],
   "source": [
    "vectorizer = TfidfVectorizer(\n",
    "    stop_words=stop_words,\n",
    "    lowercase=True,\n",
    "    use_idf=True,\n",
    "    smooth_idf=True,\n",
    "    sublinear_tf=True\n",
    ")"
   ]
  },
  {
   "cell_type": "code",
   "execution_count": 35,
   "id": "aa48eabf",
   "metadata": {},
   "outputs": [],
   "source": [
    "X = vectorizer.fit_transform(df['frase_processada'])\n",
    "y = df['emocao'] "
   ]
  },
  {
   "cell_type": "code",
   "execution_count": 38,
   "id": "0cc80e50",
   "metadata": {},
   "outputs": [
    {
     "name": "stdout",
     "output_type": "stream",
     "text": [
      "\n",
      "Dimensaõ da matriz TF-IDF: (1000, 62)\n"
     ]
    }
   ],
   "source": [
    "print(f\"\\nDimensaõ da matriz TF-IDF: {X.shape}\")"
   ]
  },
  {
   "cell_type": "markdown",
   "id": "e5338939",
   "metadata": {},
   "source": [
    "## **Divisão de Treino e Teste**"
   ]
  },
  {
   "cell_type": "code",
   "execution_count": 44,
   "id": "c4dacf80",
   "metadata": {},
   "outputs": [],
   "source": [
    "X_train, X_test, y_train, y_test = train_test_split(X, y, test_size=0.2, random_state=42, stratify=y)"
   ]
  },
  {
   "cell_type": "code",
   "execution_count": 49,
   "id": "5fd2a826",
   "metadata": {},
   "outputs": [
    {
     "name": "stdout",
     "output_type": "stream",
     "text": [
      "\n",
      "Tamanho do conjunto de treino: 800 amostras\n",
      "\n",
      "Tamanho do conjunto de teste: 200 amostras\n"
     ]
    }
   ],
   "source": [
    "print(f\"\\nTamanho do conjunto de treino: {X_train.shape[0]} amostras\")\n",
    "print(f\"\\nTamanho do conjunto de teste: {X_test.shape[0]} amostras\")"
   ]
  },
  {
   "cell_type": "markdown",
   "id": "536ef8ba",
   "metadata": {},
   "source": [
    "# **Modelo**"
   ]
  },
  {
   "cell_type": "code",
   "execution_count": 52,
   "id": "e8f5c6b8",
   "metadata": {},
   "outputs": [],
   "source": [
    "model = MultinomialNB().fit(X_train, y_train)"
   ]
  },
  {
   "cell_type": "markdown",
   "id": "5e49da0a",
   "metadata": {},
   "source": [
    "## **Avaliação do Modelo**"
   ]
  },
  {
   "cell_type": "code",
   "execution_count": 53,
   "id": "6e1bacd0",
   "metadata": {},
   "outputs": [],
   "source": [
    "y_pred = model.predict(X_test)"
   ]
  },
  {
   "cell_type": "code",
   "execution_count": 58,
   "id": "b94ed9fc",
   "metadata": {},
   "outputs": [],
   "source": [
    "classification = classification_report(y_test, y_pred)\n",
    "accuracy = accuracy_score(y_test, y_pred)\n",
    "confusion_matrix = confusion_matrix(y_test, y_pred)"
   ]
  },
  {
   "cell_type": "code",
   "execution_count": 63,
   "id": "f12d7236",
   "metadata": {},
   "outputs": [
    {
     "name": "stdout",
     "output_type": "stream",
     "text": [
      "\n",
      " Acurácia: 1.00\n",
      "\n",
      " Relatório de Classificação:\n",
      "               precision    recall  f1-score   support\n",
      "\n",
      "    negativa       1.00      1.00      1.00        68\n",
      "      neutra       1.00      1.00      1.00        66\n",
      "    positiva       1.00      1.00      1.00        66\n",
      "\n",
      "    accuracy                           1.00       200\n",
      "   macro avg       1.00      1.00      1.00       200\n",
      "weighted avg       1.00      1.00      1.00       200\n",
      "\n"
     ]
    }
   ],
   "source": [
    "print(f'\\n Acurácia: {accuracy:.2f}')\n",
    "print(f'\\n Relatório de Classificação:\\n {classification}')"
   ]
  },
  {
   "cell_type": "code",
   "execution_count": 65,
   "id": "e07db979",
   "metadata": {},
   "outputs": [
    {
     "data": {
      "image/png": "[encoded data removed]",
      "text/plain": [
       "<Figure size 600x500 with 2 Axes>"
      ]
     },
     "metadata": {},
     "output_type": "display_data"
    }
   ],
   "source": [
    "plt.figure(figsize=(6, 5))\n",
    "sns.heatmap(confusion_matrix, annot=True, fmt='d', cmap='Blues',\n",
    "            xticklabels=model.classes_, yticklabels=model.classes_)\n",
    "plt.xlabel('Predito')\n",
    "plt.ylabel('Real')\n",
    "plt.title('Matriz de Confusão')\n",
    "plt.show()"
   ]
  }
 ],
 "metadata": {
  "kernelspec": {
   "display_name": "Python 3",
   "language": "python",
   "name": "python3"
  },
  "language_info": {
   "codemirror_mode": {
    "name": "ipython",
    "version": 3
   },
   "file_extension": ".py",
   "mimetype": "text/x-python",
   "name": "python",
   "nbconvert_exporter": "python",
   "pygments_lexer": "ipython3",
   "version": "3.13.3"
  }
 },
 "nbformat": 4,
 "nbformat_minor": 5
}
